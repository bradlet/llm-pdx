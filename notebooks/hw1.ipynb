{
 "cells": [
  {
   "cell_type": "markdown",
   "id": "19305860-7cc3-4088-b5f2-12287a051ad5",
   "metadata": {},
   "source": [
    "# Assignment 1\n",
    "Bradley Thompson - CS 510 LLM Winter 2024\n",
    "\n",
    "Note to self: Remember `Shft + Tab` to view method documentation in IPython terminal."
   ]
  },
  {
   "cell_type": "code",
   "execution_count": 3,
   "id": "d0b1ab66-bbd9-4e65-a988-6fdeadd0cca7",
   "metadata": {},
   "outputs": [],
   "source": [
    "from transformers import AutoModelForCausalLM, AutoTokenizer\n",
    "\n",
    "tokenizer = AutoTokenizer.from_pretrained(\"bigscience/bloom-560m\")\n",
    "model = AutoModelForCausalLM.from_pretrained(\"bigscience/bloom-560m\")"
   ]
  },
  {
   "cell_type": "code",
   "execution_count": 33,
   "id": "26c8d9e3-c872-4179-b6e7-bcdc3b40916d",
   "metadata": {},
   "outputs": [
    {
     "name": "stdout",
     "output_type": "stream",
     "text": [
      "GenerationConfig {\n",
      "  \"max_new_tokens\": 500,\n",
      "  \"min_new_tokens\": 100\n",
      "}\n",
      "\n"
     ]
    },
    {
     "data": {
      "text/plain": [
       "tensor([[64393, 14591,   267,  3509,    15,   368,   189, 42199,  1620,   361,\n",
       "           267,  8431,   461, 68773,    17,  1387,  8876,  1620,   361,   267]])"
      ]
     },
     "execution_count": 33,
     "metadata": {},
     "output_type": "execute_result"
    }
   ],
   "source": [
    "from transformers import GenerationConfig\n",
    "\n",
    "inputs = tokenizer.encode(\"Once upon a time\", return_tensors=\"pt\")\n",
    "gen_config: GenerationConfig = GenerationConfig.from_dict({\n",
    "    \"min_new_tokens\": 100,\n",
    "    \"max_new_tokens\": 500,\n",
    "})\n",
    "print(gen_config)\n",
    "outputs = model.generate(inputs)\n",
    "outputs"
   ]
  },
  {
   "cell_type": "code",
   "execution_count": 34,
   "id": "6f675556-5ac7-4e61-9a4a-5afbe4bd7481",
   "metadata": {},
   "outputs": [
    {
     "data": {
      "text/plain": [
       "'Once upon a time, the\\nworld was in a state of confusion. The world was in a'"
      ]
     },
     "execution_count": 34,
     "metadata": {},
     "output_type": "execute_result"
    }
   ],
   "source": [
    "tokenizer.decode(outputs[0])"
   ]
  }
 ],
 "metadata": {
  "kernelspec": {
   "display_name": "Python 3 (ipykernel)",
   "language": "python",
   "name": "python3"
  },
  "language_info": {
   "codemirror_mode": {
    "name": "ipython",
    "version": 3
   },
   "file_extension": ".py",
   "mimetype": "text/x-python",
   "name": "python",
   "nbconvert_exporter": "python",
   "pygments_lexer": "ipython3",
   "version": "3.11.7"
  }
 },
 "nbformat": 4,
 "nbformat_minor": 5
}
