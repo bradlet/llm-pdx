{
 "cells": [
  {
   "cell_type": "code",
   "execution_count": 13,
   "id": "ecb063c4-33b6-47f7-8f78-75203bb633b9",
   "metadata": {},
   "outputs": [
    {
     "data": {
      "text/plain": [
       "'\"When I\\'m soaring on Sunday afternoon, I learn Frank Gifford--one of my faves on the field and inside the broadcast booth--has died.\" '"
      ]
     },
     "execution_count": 13,
     "metadata": {},
     "output_type": "execute_result"
    }
   ],
   "source": [
    "from datasets import load_dataset\n",
    "\n",
    "POSITIVE=\"positive\"\n",
    "NEUTRAL=\"neutral\"\n",
    "NEGATIVE=\"negative\"\n",
    "\n",
    "ID_TO_LABEL = {\n",
    "    0: NEGATIVE,\n",
    "    1: NEUTRAL,\n",
    "    2: POSITIVE,\n",
    "}\n",
    "\n",
    "dataset = load_dataset(\"cardiffnlp/tweet_sentiment_multilingual\", \"english\")\n",
    "target_dataset = dataset[\"train\"]\n",
    "\n",
    "# Check out what the data looks like:\n",
    "\n",
    "positives = [ sample[\"text\"] for sample in target_dataset if ID_TO_LABEL[sample[\"label\"]] == POSITIVE ]\n",
    "neutral = [ sample[\"text\"] for sample in target_dataset if ID_TO_LABEL[sample[\"label\"]] == NEUTRAL ]\n",
    "negative = [ sample[\"text\"] for sample in target_dataset if ID_TO_LABEL[sample[\"label\"]] == NEGATIVE ]\n",
    "\n",
    "negative[189]"
   ]
  },
  {
   "cell_type": "code",
   "execution_count": null,
   "id": "687bdd99-afc9-4c3e-b08b-c5718104c7ca",
   "metadata": {},
   "outputs": [],
   "source": []
  }
 ],
 "metadata": {
  "kernelspec": {
   "display_name": "Python 3 (ipykernel)",
   "language": "python",
   "name": "python3"
  },
  "language_info": {
   "codemirror_mode": {
    "name": "ipython",
    "version": 3
   },
   "file_extension": ".py",
   "mimetype": "text/x-python",
   "name": "python",
   "nbconvert_exporter": "python",
   "pygments_lexer": "ipython3",
   "version": "3.11.7"
  }
 },
 "nbformat": 4,
 "nbformat_minor": 5
}
