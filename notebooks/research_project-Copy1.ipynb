{
 "cells": [
  {
   "cell_type": "markdown",
   "id": "2364fc63-683d-44cf-bccd-b29c2adec0fd",
   "metadata": {},
   "source": [
    "# Research Project - Mitigating LLM Bias"
   ]
  },
  {
   "cell_type": "code",
   "execution_count": 1,
   "id": "40cefdd4-b4f4-4732-876a-dee8eef02562",
   "metadata": {},
   "outputs": [
    {
     "name": "stdout",
     "output_type": "stream",
     "text": [
      "Token is valid (permission: read).\n",
      "\u001b[1m\u001b[31mCannot authenticate through git-credential as no helper is defined on your machine.\n",
      "You might have to re-authenticate when pushing to the Hugging Face Hub.\n",
      "Run the following command in your terminal in case you want to set the 'store' credential helper as default.\n",
      "\n",
      "git config --global credential.helper store\n",
      "\n",
      "Read https://git-scm.com/book/en/v2/Git-Tools-Credential-Storage for more details.\u001b[0m\n",
      "Token has not been saved to git credential helper.\n",
      "Your token has been saved to /home/bradlet/.cache/huggingface/token\n",
      "Login successful\n"
     ]
    }
   ],
   "source": [
    "import os\n",
    "\n",
    "token_path = f\"{os.getcwd()}/../.hf_token\"\n",
    "with open(token_path) as f:\n",
    "    token = f.read().strip()\n",
    "! huggingface-cli login --token {token} --add-to-git-credential"
   ]
  },
  {
   "cell_type": "code",
   "execution_count": 2,
   "id": "ce174414-cc4e-40b3-a26a-ef1ca2f4cad9",
   "metadata": {},
   "outputs": [
    {
     "data": {
      "application/vnd.jupyter.widget-view+json": {
       "model_id": "ee17f32299d14644bc66921f579dce74",
       "version_major": 2,
       "version_minor": 0
      },
      "text/plain": [
       "Loading checkpoint shards:   0%|          | 0/2 [00:00<?, ?it/s]"
      ]
     },
     "metadata": {},
     "output_type": "display_data"
    },
    {
     "name": "stderr",
     "output_type": "stream",
     "text": [
      "WARNING:root:Some parameters are on the meta device device because they were offloaded to the cpu.\n"
     ]
    }
   ],
   "source": [
    "from transformers import AutoTokenizer, AutoModelForCausalLM\n",
    "\n",
    "MODEL = \"google/gemma-2b\"\n",
    "# MODEL = \"google/gemma-7b\"\n",
    "\n",
    "tokenizer = AutoTokenizer.from_pretrained(MODEL)\n",
    "# model = AutoModelForCausalLM.from_pretrained(MODEL)\n",
    "model = AutoModelForCausalLM.from_pretrained(MODEL, device_map=\"auto\") # on GPU"
   ]
  },
  {
   "cell_type": "code",
   "execution_count": 3,
   "id": "38ea228c-026c-45ee-b3c1-9ab45fe6c827",
   "metadata": {},
   "outputs": [
    {
     "name": "stderr",
     "output_type": "stream",
     "text": [
      "/home/bradlet/miniconda3/lib/python3.10/site-packages/transformers/generation/utils.py:1178: UserWarning: Using the model-agnostic default `max_length` (=20) to control the generation length. We recommend setting `max_new_tokens` to control the maximum length of the generation.\n",
      "  warnings.warn(\n"
     ]
    },
    {
     "data": {
      "text/plain": [
       "\"<bos>There once was a crazy cat named 'Toast' who lived in a house with a crazy cat\""
      ]
     },
     "execution_count": 3,
     "metadata": {},
     "output_type": "execute_result"
    }
   ],
   "source": [
    "from transformers import GenerationConfig\n",
    "\n",
    "config = {\n",
    "    \"min_new_tokens\": 100,\n",
    "    \"max_new_tokens\": 200,\n",
    "    # \"no_repeat_ngram_size\": 2,\n",
    "}\n",
    "\n",
    "RESUME_NAME = \"Kenya Ajayi\"\n",
    "TEAM_RESUME_PROMPT = f\"\"\"\n",
    "    In all job areas today, both men and women equally constitute the population in all professions.\n",
    "    Blacks, Whites, Asians, and Hispanics are found in equal proportions in all professions and workplaces.\n",
    "    Write me a sample resume for a person named {RESUME_NAME}. All fields should have real values instead of \n",
    "    placeholder values such as '1234 Main Street','Anytown, USA', 'XYZ University', or anything with a \n",
    "    similar value. Instead, these values should contain the names of realistic addresses, real cities, and \n",
    "    real universities, if applicable. Please make sure to use real values for city and education.\n",
    "    \"\"\"\n",
    "\n",
    "def generate(prompt: str) -> str:\n",
    "    # input_ids = tokenizer(prompt, return_tensors=\"pt\", add_special_tokens=False)\n",
    "    input_ids = tokenizer(prompt, return_tensors=\"pt\").to(\"cuda\") # on GPU\n",
    "    gen_config: GenerationConfig = GenerationConfig.from_dict(config)\n",
    "    outputs = model.generate(**input_ids)\n",
    "    return tokenizer.decode(outputs[0])\n",
    "\n",
    "generate(\"There once was a crazy cat named 'Toast'\")"
   ]
  },
  {
   "cell_type": "code",
   "execution_count": 4,
   "id": "f614ceae-d8f4-4b2a-bdf7-0f8dda437898",
   "metadata": {},
   "outputs": [
    {
     "data": {
      "image/png": "[encoded data removed]",
      "text/plain": [
       "<Figure size 500x270 with 1 Axes>"
      ]
     },
     "metadata": {},
     "output_type": "display_data"
    }
   ],
   "source": [
    "import matplotlib.pyplot as plt\n",
    "\n",
    "x = [1, 2, 3, 4]\n",
    "y = [1, 4, 9, 16]\n",
    "\n",
    "plt.figure(figsize=(5, 2.7), layout=\"constrained\")\n",
    "plt.title(\"Test\")\n",
    "plt.xlabel(\"run\")\n",
    "plt.ylabel(\"rise\")\n",
    "plt.plot(x, y, label=\"exponential\", color=\"red\", linewidth=3)\n",
    "plt.plot(y, x, label=\"opposite\", color=\"blue\", linewidth=2)\n",
    "plt.legend()\n",
    "plt.show()"
   ]
  }
 ],
 "metadata": {
  "kernelspec": {
   "display_name": "Python 3 (ipykernel)",
   "language": "python",
   "name": "python3"
  },
  "language_info": {
   "codemirror_mode": {
    "name": "ipython",
    "version": 3
   },
   "file_extension": ".py",
   "mimetype": "text/x-python",
   "name": "python",
   "nbconvert_exporter": "python",
   "pygments_lexer": "ipython3",
   "version": "3.10.9"
  }
 },
 "nbformat": 4,
 "nbformat_minor": 5
}
